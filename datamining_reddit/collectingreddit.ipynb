{
 "cells": [
  {
   "cell_type": "markdown",
   "id": "d307c532",
   "metadata": {},
   "source": [
    "# Have reddit.com posts gotten more politically biased over the last few years?\n",
    "\n",
    "\n",
    "This is a project done for a Social Sciences Data Analytics course, due June 2021. Focus is less on the complexity of the analysis and more on data mining & social insights/storytelling.\n",
    "\n",
    "--------"
   ]
  },
  {
   "cell_type": "markdown",
   "id": "3279630b",
   "metadata": {},
   "source": [
    "The internet is known for being a place of free expression - at least, when not faced by legal and/or governmental intervention. Nonetheless, website moderation systems are not exempt of potential bias in preference for topics and postures, be it due to unconscious decisions based on moderators' proclivities, due to an underlying active agenda, due to mere coincidence, and a myriad of other possible explanations.\n",
    "\n",
    "This is where *reddit.com*, \"the frontpage of the internet\", comes. Founded in June 2005, it is a USA-based \"social news aggregation, web content rating, and discussion website\" (quote: Wikipedia). It allows users to post free content into different topic or theme-based communities, known as *subreddits*, where there is an up-vote system that allows both rating posts themselves and comments over these posts to be ranked by users.\n",
    "\n",
    "To illustrate the mission of Reddit, let us quote the homepage's statement:\n",
    "\n",
    "<blockquote>Reddit is home to thousands of communities, endless conversation, and authentic human connection. Whether you're into breaking news, sports, TV fan theories, or a never-ending stream of the internet's cutest animals, there's a community on Reddit for you.</blockquote>\n",
    "\n",
    "--------\n",
    "\n",
    "Since each subreddit is topic or theme-based, they rely on specific sets of rules that aim to keep the spirit of the subreddit from straying. Thus, the website counts heavily on the activity of moderators - users with special permissions to remove posts, ban users from subreddits, close threads, edit certain posts, etcetera - to ensure the following of these rules by users via their granted powers (used ideally in good faith).\n",
    "\n",
    "Over the last decade, this platform grew to be not only a gigantic social media and web content repository, but also what is considered by many one of the most active user-based webpages, and perhaps the biggest internet forum out there (at least in the Western World), considering the plethora of topics and subreddits that are being actively discussed - be it religion, politics, hobbies, fitness, memes, life advice, you name it. As of February 2021, Reddit ranked as the 18th-most-visited website in the world (source: Alexa Internet).\n",
    "\n",
    "About one-fifth of its user base consists of 18 to 29-year-olds, almost from the USA, and around 60% from this country plus the United Kingdom and Canada. As of 2020, it had 52 million daily active users, and as of 2019, 430 million monthly users - a statistic which suggests the hefty presence of this internet platform. In 2020, 303.4 million posts were uploaded in the 2.2 million subreddits - 130,000 of which are considered active (source: businessofapps.com).\n",
    "\n",
    "\n"
   ]
  },
  {
   "cell_type": "markdown",
   "id": "73ad78d6",
   "metadata": {},
   "source": [
    "------------\n",
    "\n",
    "In this spirit, it is an interesting question to ask oneself if such a massive platform has been able to remain as a stable platform for free expression of ideas, regardless of motivation and personal bias. In other words, we want to ask ourselves if Reddit has been able to safeguard free speech, and if it has remained free of any degree of polarization which may repel or deter potential users from expressing their opinions.\n",
    "\n",
    "Thus, in this notebook, we want to (exploratorily) shed light to this question. We are going to explore whether this platform has gotten more politically biased during the last few years; that is, we are going to have an exploratory analysis of whether posts, in general, have gotten more left-winged, right-winged, or perhaps apolitical (which is not unfeasible considering who the main users are).\n"
   ]
  },
  {
   "cell_type": "markdown",
   "id": "536d46b3",
   "metadata": {},
   "source": [
    "----------------\n",
    "\n",
    "In order to test this hypothesis - emphasis in the exploratory nature of this -, we are implementing the following methodology:\n",
    "* Define functions/algorithms for accessing API (explain this better)\n",
    "* Customize functions for scraping posts in certain timeframes\n",
    "* Define groups of subreddits that have a determined political leaning for training our model (this to be addressed later on)\n",
    "    * Subreddits like r/Socialism_101, r/TheRightCantMeme, etcetera, can be considered as inherently left-wing\n",
    "    * For right-wing posts, we can consider subreddits such as r/Conservative, r/Capitalism, and others mocking democrats as an example\n",
    "    * We are also going to define a group of subreddits that attempt to remain particularly neutral or apolitical; this mainly concerns some hobby-based subreddits (r/Music, r/Gaming), sports, general \"lifehacks\" subreddits, informative subreddits, educational, etcetera\n",
    "* With these groups defined, we are going to scrape posts of them from May 2021, and then some more if necessary\n",
    "* Using text classification methodologies, parametric and non-parametric models are trained for predicting political leaning\n",
    "* Having selected the most accurate model - in the training phase -, we are going to implement it to classify posts from popular subreddits that were not included as part of the training/validation dataset, and that might or might not be controversial (r/news, r/ChangeMyView, r/politics, r/WorldNews, etcetera)\n",
    "\n",
    "It is worth mentioning that exclusively written posts - that is, not consisting of solely webpage links - are being used for training and testing purposes; evaluating the content of respective links might provide much more depth and accuracy into the insights, yet requires not only computational time, but also a level of complexity that escapes the purpose of an exploratory investigation such as the one we are executing in this notebook."
   ]
  },
  {
   "cell_type": "markdown",
   "id": "a2c06695",
   "metadata": {},
   "source": [
    "-----------\n",
    "\n",
    "Let us first install and load Python packages necessary for our venture:"
   ]
  },
  {
   "cell_type": "code",
   "execution_count": 1,
   "id": "84191b05",
   "metadata": {},
   "outputs": [
    {
     "name": "stdout",
     "output_type": "stream",
     "text": [
      "Requirement already satisfied: praw in c:\\users\\ncozz\\anaconda3\\lib\\site-packages (7.2.0)\n",
      "Requirement already satisfied: prawcore<3,>=2 in c:\\users\\ncozz\\anaconda3\\lib\\site-packages (from praw) (2.0.0)\n",
      "Requirement already satisfied: websocket-client>=0.54.0 in c:\\users\\ncozz\\anaconda3\\lib\\site-packages (from praw) (1.0.1)\n",
      "Requirement already satisfied: update-checker>=0.18 in c:\\users\\ncozz\\anaconda3\\lib\\site-packages (from praw) (0.18.0)\n",
      "Requirement already satisfied: requests<3.0,>=2.6.0 in c:\\users\\ncozz\\anaconda3\\lib\\site-packages (from prawcore<3,>=2->praw) (2.25.1)\n",
      "Requirement already satisfied: urllib3<1.27,>=1.21.1 in c:\\users\\ncozz\\anaconda3\\lib\\site-packages (from requests<3.0,>=2.6.0->prawcore<3,>=2->praw) (1.26.4)\n",
      "Requirement already satisfied: idna<3,>=2.5 in c:\\users\\ncozz\\anaconda3\\lib\\site-packages (from requests<3.0,>=2.6.0->prawcore<3,>=2->praw) (2.10)\n",
      "Requirement already satisfied: certifi>=2017.4.17 in c:\\users\\ncozz\\anaconda3\\lib\\site-packages (from requests<3.0,>=2.6.0->prawcore<3,>=2->praw) (2020.12.5)\n",
      "Requirement already satisfied: chardet<5,>=3.0.2 in c:\\users\\ncozz\\anaconda3\\lib\\site-packages (from requests<3.0,>=2.6.0->prawcore<3,>=2->praw) (4.0.0)\n",
      "Note: you may need to restart the kernel to use updated packages.\n"
     ]
    },
    {
     "name": "stderr",
     "output_type": "stream",
     "text": [
      "WARNING: Ignoring invalid distribution -andas (c:\\users\\ncozz\\anaconda3\\lib\\site-packages)\n",
      "WARNING: Ignoring invalid distribution -andas (c:\\users\\ncozz\\anaconda3\\lib\\site-packages)\n",
      "WARNING: Ignoring invalid distribution -andas (c:\\users\\ncozz\\anaconda3\\lib\\site-packages)\n",
      "WARNING: Ignoring invalid distribution -andas (c:\\users\\ncozz\\anaconda3\\lib\\site-packages)\n",
      "WARNING: Ignoring invalid distribution -andas (c:\\users\\ncozz\\anaconda3\\lib\\site-packages)\n",
      "WARNING: Ignoring invalid distribution -andas (c:\\users\\ncozz\\anaconda3\\lib\\site-packages)\n"
     ]
    }
   ],
   "source": [
    "# install any packages\n",
    "%pip install praw"
   ]
  },
  {
   "cell_type": "code",
   "execution_count": 224,
   "id": "fd36b750",
   "metadata": {},
   "outputs": [],
   "source": [
    "import requests\n",
    "import praw\n",
    "import pandas as pd\n",
    "import numpy as np\n",
    "import datetime\n",
    "import time\n",
    "import calendar\n",
    "import matplotlib.pyplot as plt\n",
    "from matplotlib.ticker import StrMethodFormatter\n",
    "from matplotlib.ticker import MaxNLocator\n",
    "\n",
    "from sklearn.model_selection import train_test_split, GridSearchCV, StratifiedKFold\n",
    "from sklearn.feature_extraction.text import CountVectorizer\n",
    "from sklearn.linear_model import LogisticRegression\n",
    "from sklearn.metrics import classification_report, confusion_matrix, accuracy_score\n",
    "import seaborn as sns\n",
    "\n",
    "import nltk\n",
    "from nltk.stem.snowball import SnowballStemmer\n",
    "from nltk import word_tokenize\n",
    "\n",
    "from sklearn.neighbors import KNeighborsClassifier\n",
    "from sklearn.ensemble import RandomForestClassifier"
   ]
  },
  {
   "cell_type": "code",
   "execution_count": 3,
   "id": "0d665079",
   "metadata": {},
   "outputs": [],
   "source": [
    "pd.set_option(\"display.max_columns\",101)"
   ]
  },
  {
   "cell_type": "markdown",
   "id": "a51cd5ca",
   "metadata": {},
   "source": [
    "## 1. Creating a training dataset\n",
    "\n",
    "As suggested previously, we are going to create a training dataset based on subreddits with relatively explicit political inclination - be it left-wing, right-wing, or \"neutral\" (vide infra).\n",
    "\n",
    "In order to obtain the dataset, we are going to combine the *requests* package - an HTTP library that allows for general implementation of API in websites - with the customized PRAW (\"Pyhon Reddit API Wrapper\") package - a library that is customized according to Reddit's API rules, in order to allow for intuitive usage and scraping of data in this website."
   ]
  },
  {
   "cell_type": "markdown",
   "id": "f54393c7",
   "metadata": {},
   "source": [
    "------------\n",
    "\n",
    "For scraping, we create a user-defined API server - a requirement for the PRAW package.\n",
    "\n",
    "We then create functions that allow for:\n",
    "* Connecting to the server according to a generalized Reddit API link, request data in json format in a determined timeframe, obtain the \"submissions\" (posts), and append them\n",
    "* Converting Unix time (the format that Reddit implements) to *datetime*\n",
    "* Defining (a) specific subreddit(s), specific months of the calendar, appending posts, and converting this json array to a Pandas DataFrame\n",
    "\n",
    "Let us create these functions below:"
   ]
  },
  {
   "cell_type": "code",
   "execution_count": 4,
   "id": "cfa81c0a",
   "metadata": {},
   "outputs": [],
   "source": [
    "# creating a server (in this case, we connect to a user-created one)\n",
    "reddit = praw.Reddit(client_id='9QL4gn3CotZfCA', client_secret='T9GUlb_QzUFYEugXndF_nWOaSgJPCA',\n",
    "                     user_agent='big data project')"
   ]
  },
  {
   "cell_type": "code",
   "execution_count": 5,
   "id": "de242b3d",
   "metadata": {},
   "outputs": [],
   "source": [
    "def submissions_pushshift_praw(subreddit, start=None, end=None, limit=100, extra_query=\"\"):\n",
    "    matching_praw_submissions = []\n",
    "    utc_offset = 28800\n",
    "    now = int(time.time())\n",
    "    start = max(int(start) + utc_offset if start else 0, 0)\n",
    "    end = min(int(end) if end else now, now) + utc_offset\n",
    "    # Format our search link properly.\n",
    "    search_link = ('https://api.pushshift.io/reddit/submission/search/'\n",
    "                   '?subreddit={}&after={}&before={}&sort_type=score&sort=desc&limit={}&q={}')\n",
    "    search_link = search_link.format(subreddit, start, end, limit, extra_query)\n",
    "    \n",
    "    # Get the data from Pushshift as JSON.\n",
    "    retrieved_data = requests.get(search_link)\n",
    "    returned_submissions = retrieved_data.json()['data']\n",
    "    \n",
    "    # Iterate over the returned submissions to convert them to PRAW submission objects.\n",
    "    for submission in returned_submissions:\n",
    "        \n",
    "        # Take the ID, fetch the PRAW submission object, and append to our list\n",
    "        praw_submission = reddit.submission(id=submission['id'])\n",
    "        matching_praw_submissions.append(praw_submission)\n",
    "     \n",
    "    # Return all PRAW submissions that were obtained.\n",
    "    return matching_praw_submissions"
   ]
  },
  {
   "cell_type": "code",
   "execution_count": 6,
   "id": "8f919156",
   "metadata": {},
   "outputs": [],
   "source": [
    "# functions for converting dates to unix format and back:\n",
    "def dttounix(year, month, day, hour, minute, second):\n",
    "    dt = datetime.datetime(year, month, day, hour, minute, second)\n",
    "    unixtime = (dt - datetime.datetime(1970, 1, 1)).total_seconds()\n",
    "    return(unixtime)\n",
    "\n",
    "def unixtodt(unixtime):\n",
    "    dt = datetime.datetime.fromtimestamp(unixtime).strftime('%Y-%m-%d %H:%M:%S')\n",
    "    return(dt)"
   ]
  },
  {
   "cell_type": "code",
   "execution_count": 7,
   "id": "64662cec",
   "metadata": {},
   "outputs": [],
   "source": [
    "# used for scraping a month in particular later on\n",
    "def nextfivemonth(y,m,d):\n",
    "    if(d==1): return(5)\n",
    "    elif(d==6): return(10)\n",
    "    elif(d==11): return(15)\n",
    "    elif(d==16): return(20)\n",
    "    elif(d==21): return(25)\n",
    "    elif(d==26): return(calendar.monthrange(y, m)[1])"
   ]
  },
  {
   "cell_type": "code",
   "execution_count": 8,
   "id": "6cc6daea",
   "metadata": {},
   "outputs": [],
   "source": [
    "# function for scraping a whole month of a particular subreddit:\n",
    "def monthscrapesub(sub, leaning, year, month):\n",
    "    df1=pd.DataFrame(columns=['created','subreddit','selftext','label'])\n",
    "    # scraping in five day intervals, based on trial and error\n",
    "    for d in [1, 6, 11, 16, 21, 26]:\n",
    "        t_0 = dttounix(year, month, d, 0, 0, 0)\n",
    "        t_f = dttounix(year, month, nextfivemonth(year, month, d), 23, 59, 59)\n",
    "        sublist = submissions_pushshift_praw(subreddit=sub, start=t_0, end=t_f, limit=100, extra_query=\"\")\n",
    "        for submission in sublist:\n",
    "            leaning = leaning\n",
    "            if ((((submission.selftext!='[deleted]') & (submission.selftext!='[removed]')) & \\\n",
    "                (pd.isna(submission.selftext)==False)) & (submission.selftext!='')):\n",
    "                df1=df1.append(\n",
    "                    pd.Series([submission.created, submission.subreddit, submission.selftext, leaning],\n",
    "                              index=df1.columns).to_frame().T,\n",
    "                        ignore_index=False\n",
    "                    )\n",
    "    df1.created = df1.created.apply(lambda x: unixtodt(x))\n",
    "    return(df1).drop_duplicates()"
   ]
  },
  {
   "cell_type": "markdown",
   "id": "6a6bc0ee",
   "metadata": {},
   "source": [
    "Having created the respective functions for scraping, we define the subreddits from which posts are being scraped, apply the functions for scraping, and label them.\n",
    "\n",
    "For this purpose, we define the three possible classifications according to the following criteria:\n",
    "* **Left:** posts from subreddits with explicit and traditionally left-winged leanings - that is, subreddits with egalitarism-based and reforming tendencies, be it centered on a determined political theory (Socialism, Critical Theory, Gramscian Marxism, etcetera), on political parties (i.e., Democratic Party of USA), or on mocking the right-winged counterparts\n",
    "* **Right:** posts from subreddits with either Conservative, Capitalist, or both connotations - following an analogous criteria as of that stated for the *left*\n",
    "* **None:** posts from subreddits that attempt to remain inherently informative (i.e., History), that allienate themselves from political connotations by being activity/hobby-based, and that center themselves on apolitical advice and thoughts\n",
    "\n",
    "It is worth mentioning that executing the commands below can take from a few hours to a full day - depending on the amount of subreddits and months to scrape, and on the server status.\n",
    "\n",
    "It is also stated that the commands below were executed iteratively, often scraping more months than stated for certain labels in order to reduce class imbalance."
   ]
  },
  {
   "cell_type": "code",
   "execution_count": 9,
   "id": "a19231f8",
   "metadata": {},
   "outputs": [],
   "source": [
    "# Defining subreddits\n",
    "leftist_subr = ['communism', 'marxism', 'latestagecapitalism', 'socialism', 'socialism_101', \\\n",
    "               'criticaltheory','progressive', 'democrats']\n",
    "right_subr = ['conservative', 'newright', 'republican', 'capitalism', 'neoliberal', \\\n",
    "              'whiteknighting','tories']\n",
    "nolean_subr = ['history','gaming', 'todayilearned', 'showerthoughts', 'LifeProTips', \\\n",
    "               'DIY', 'fitness', 'sports']"
   ]
  },
  {
   "cell_type": "code",
   "execution_count": 10,
   "id": "6220d879",
   "metadata": {},
   "outputs": [],
   "source": [
    "# defining train dataframe\n",
    "train_full = pd.DataFrame(columns=['created','subreddit','selftext','label'])"
   ]
  },
  {
   "cell_type": "code",
   "execution_count": 11,
   "id": "b480a010",
   "metadata": {},
   "outputs": [],
   "source": [
    "# scraping left-wing posts:\n",
    "for sub in leftist_subr:\n",
    "    # due to computational time, only may is scraped\n",
    "    for year in [2020, 2021]:\n",
    "        for month in [5]:\n",
    "            try:\n",
    "                train_full = train_full.append(monthscrapesub(sub, 'left', 2020, month))\n",
    "            except:\n",
    "                pass"
   ]
  },
  {
   "cell_type": "code",
   "execution_count": 12,
   "id": "b4e7b7fc",
   "metadata": {},
   "outputs": [],
   "source": [
    "# scraping right-wing posts:\n",
    "for sub in right_subr:\n",
    "    # due to computational time, only may is scraped\n",
    "    for year in [2020, 2021]:\n",
    "        for month in [5]:\n",
    "            try:\n",
    "                train_full = train_full.append(monthscrapesub(sub, 'right', 2020, month))\n",
    "            except:\n",
    "                pass"
   ]
  },
  {
   "cell_type": "code",
   "execution_count": null,
   "id": "4473f8fd",
   "metadata": {},
   "outputs": [],
   "source": [
    "# scraping neutral posts:\n",
    "for sub in nolean_subr:\n",
    "    for year in [2020,2021]:\n",
    "        for month in [5]:\n",
    "            try:\n",
    "                train_full = train_full.append(monthscrapesub(sub, 'none', 2020, month))\n",
    "            except:\n",
    "                pass"
   ]
  },
  {
   "cell_type": "code",
   "execution_count": 16,
   "id": "07b4c921",
   "metadata": {},
   "outputs": [
    {
     "name": "stdout",
     "output_type": "stream",
     "text": [
      "none     1468\n",
      "left     1381\n",
      "right     654\n",
      "Name: label, dtype: int64\n"
     ]
    }
   ],
   "source": [
    "train_full = train_full.drop_duplicates()\n",
    "print(train_full['label'].value_counts())"
   ]
  },
  {
   "cell_type": "code",
   "execution_count": 15,
   "id": "2dda7af5",
   "metadata": {},
   "outputs": [
    {
     "name": "stdout",
     "output_type": "stream",
     "text": [
      "(3503, 4)\n"
     ]
    }
   ],
   "source": [
    "# dimensions of the subreddits\n",
    "print(train_full.shape)"
   ]
  },
  {
   "cell_type": "code",
   "execution_count": 104,
   "id": "7a872759",
   "metadata": {},
   "outputs": [
    {
     "data": {
      "text/html": [
       "<div>\n",
       "<style scoped>\n",
       "    .dataframe tbody tr th:only-of-type {\n",
       "        vertical-align: middle;\n",
       "    }\n",
       "\n",
       "    .dataframe tbody tr th {\n",
       "        vertical-align: top;\n",
       "    }\n",
       "\n",
       "    .dataframe thead th {\n",
       "        text-align: right;\n",
       "    }\n",
       "</style>\n",
       "<table border=\"1\" class=\"dataframe\">\n",
       "  <thead>\n",
       "    <tr style=\"text-align: right;\">\n",
       "      <th></th>\n",
       "      <th>created</th>\n",
       "      <th>subreddit</th>\n",
       "      <th>selftext</th>\n",
       "      <th>label</th>\n",
       "    </tr>\n",
       "  </thead>\n",
       "  <tbody>\n",
       "    <tr>\n",
       "      <th>273</th>\n",
       "      <td>5/3/2021 11:30</td>\n",
       "      <td>Socialism_101</td>\n",
       "      <td>So a tik toker says mao killed 40 million whic...</td>\n",
       "      <td>left</td>\n",
       "    </tr>\n",
       "    <tr>\n",
       "      <th>446</th>\n",
       "      <td>5/20/2021 6:03</td>\n",
       "      <td>Socialism_101</td>\n",
       "      <td>I am looking for a theory guide that is short ...</td>\n",
       "      <td>left</td>\n",
       "    </tr>\n",
       "    <tr>\n",
       "      <th>1329</th>\n",
       "      <td>2/1/2021 6:07</td>\n",
       "      <td>stevencrowder</td>\n",
       "      <td>Hey guys,\\n\\nWas wondering if anyone would lik...</td>\n",
       "      <td>right</td>\n",
       "    </tr>\n",
       "    <tr>\n",
       "      <th>2229</th>\n",
       "      <td>5/17/2019 6:47</td>\n",
       "      <td>history</td>\n",
       "      <td>Khrushchev is most well known for his destalin...</td>\n",
       "      <td>none</td>\n",
       "    </tr>\n",
       "    <tr>\n",
       "      <th>408</th>\n",
       "      <td>5/13/2021 10:52</td>\n",
       "      <td>Socialism_101</td>\n",
       "      <td>I’ve always been somewhat neutral on the Israe...</td>\n",
       "      <td>left</td>\n",
       "    </tr>\n",
       "    <tr>\n",
       "      <th>306</th>\n",
       "      <td>5/8/2021 23:02</td>\n",
       "      <td>Socialism_101</td>\n",
       "      <td>I'm having a hard time wrapping my head around...</td>\n",
       "      <td>left</td>\n",
       "    </tr>\n",
       "    <tr>\n",
       "      <th>2148</th>\n",
       "      <td>5/13/2019 4:24</td>\n",
       "      <td>history</td>\n",
       "      <td>How did a person from Italia feel about workin...</td>\n",
       "      <td>none</td>\n",
       "    </tr>\n",
       "    <tr>\n",
       "      <th>100</th>\n",
       "      <td>5/17/2021 6:40</td>\n",
       "      <td>Marxism</td>\n",
       "      <td>Is it simply a conspiracy theory on the right ...</td>\n",
       "      <td>left</td>\n",
       "    </tr>\n",
       "    <tr>\n",
       "      <th>2577</th>\n",
       "      <td>5/25/2021 1:00</td>\n",
       "      <td>history</td>\n",
       "      <td>Historians are ridiculously addicted to consen...</td>\n",
       "      <td>none</td>\n",
       "    </tr>\n",
       "    <tr>\n",
       "      <th>2075</th>\n",
       "      <td>5/7/2019 23:20</td>\n",
       "      <td>history</td>\n",
       "      <td>Phillip IV ordered his \"agents\" to arrest the ...</td>\n",
       "      <td>none</td>\n",
       "    </tr>\n",
       "  </tbody>\n",
       "</table>\n",
       "</div>"
      ],
      "text/plain": [
       "              created      subreddit  \\\n",
       "273    5/3/2021 11:30  Socialism_101   \n",
       "446    5/20/2021 6:03  Socialism_101   \n",
       "1329    2/1/2021 6:07  stevencrowder   \n",
       "2229   5/17/2019 6:47        history   \n",
       "408   5/13/2021 10:52  Socialism_101   \n",
       "306    5/8/2021 23:02  Socialism_101   \n",
       "2148   5/13/2019 4:24        history   \n",
       "100    5/17/2021 6:40        Marxism   \n",
       "2577   5/25/2021 1:00        history   \n",
       "2075   5/7/2019 23:20        history   \n",
       "\n",
       "                                               selftext  label  \n",
       "273   So a tik toker says mao killed 40 million whic...   left  \n",
       "446   I am looking for a theory guide that is short ...   left  \n",
       "1329  Hey guys,\\n\\nWas wondering if anyone would lik...  right  \n",
       "2229  Khrushchev is most well known for his destalin...   none  \n",
       "408   I’ve always been somewhat neutral on the Israe...   left  \n",
       "306   I'm having a hard time wrapping my head around...   left  \n",
       "2148  How did a person from Italia feel about workin...   none  \n",
       "100   Is it simply a conspiracy theory on the right ...   left  \n",
       "2577  Historians are ridiculously addicted to consen...   none  \n",
       "2075  Phillip IV ordered his \"agents\" to arrest the ...   none  "
      ]
     },
     "execution_count": 104,
     "metadata": {},
     "output_type": "execute_result"
    }
   ],
   "source": [
    "train_full.sample(10)"
   ]
  },
  {
   "cell_type": "markdown",
   "id": "ca22b4ea",
   "metadata": {},
   "source": [
    "-------------\n",
    "## 2. Defining a prediction model for political affiliation\n",
    "\n",
    "Having labeled a dataset of posts, we now attempt to build/train a satisfactory model for predicting posts' political inclinations, with the purpose of labeling the test dataset with some level of accuracy.\n",
    "\n",
    "We are going to attempt three models for prediction: **multinomial logistic regression**, **K-nearest neighbors*, and **random forest classifier**.\n",
    "\n",
    "The model to be utilized on the test dataset (to be addressed later on) will be the one with the highest accuracy; in order to mitigate overfitting, we are splitting the full training dataset into train and validation sets."
   ]
  },
  {
   "cell_type": "code",
   "execution_count": 17,
   "id": "3f33f03c",
   "metadata": {},
   "outputs": [],
   "source": [
    "# it's always good to back up your data\n",
    "# train_full.to_csv(r'C:\\Users\\ncozz\\Documents\\--- KUL\\2 Sem\\Collecting Big Data\\trainbigdata.csv', index = False)"
   ]
  },
  {
   "cell_type": "code",
   "execution_count": 9,
   "id": "79d61d35",
   "metadata": {},
   "outputs": [],
   "source": [
    "# loading data\n",
    "# train_full = pd.read_csv('C:/Users/ncozz/Documents/--- KUL/2 Sem/Collecting Big Data/trainbigdata.csv')"
   ]
  },
  {
   "cell_type": "code",
   "execution_count": 10,
   "id": "99189e93",
   "metadata": {},
   "outputs": [],
   "source": [
    "train, val = train_test_split(train_full, test_size=0.2, random_state = 777)"
   ]
  },
  {
   "cell_type": "markdown",
   "id": "25abef97",
   "metadata": {},
   "source": [
    "--------------\n",
    "### 2.1. Logistic Regression\n",
    "Let us first attempt training a (multinomial) logistic regression model, which regresses the logit link function of the probability of belonging to a certain category with a linear predictor - consisting, in this case, of the vectorized subreddit text multiplied by the estimated coefficients of the MLR.\n",
    "\n",
    "We are going to vectorize the reddit texts - removing stop words -, train a LR model that predicts the political leaning (\"label\") based on the (vectorized) text, and calculate the accuracy on the validation set."
   ]
  },
  {
   "cell_type": "code",
   "execution_count": 11,
   "id": "89bdab9b",
   "metadata": {},
   "outputs": [],
   "source": [
    "vectorizer  = CountVectorizer(lowercase  =  True,\n",
    "                             stop_words  = 'english',\n",
    "                             ngram_range = (1,3),\n",
    "                             max_features = None)\n",
    "\n",
    "lr_classifier = LogisticRegression(max_iter=1000)"
   ]
  },
  {
   "cell_type": "code",
   "execution_count": 12,
   "id": "b7d7ec7f",
   "metadata": {},
   "outputs": [],
   "source": [
    "vectorizer.fit(train['selftext'])\n",
    "X_train = vectorizer.transform(train['selftext'])\n",
    "X_val = vectorizer.transform(val['selftext'])"
   ]
  },
  {
   "cell_type": "code",
   "execution_count": 99,
   "id": "bfc42caf",
   "metadata": {},
   "outputs": [
    {
     "data": {
      "text/plain": [
       "LogisticRegression(max_iter=1000)"
      ]
     },
     "execution_count": 99,
     "metadata": {},
     "output_type": "execute_result"
    }
   ],
   "source": [
    "lr_classifier.fit(X_train, train['label'])"
   ]
  },
  {
   "cell_type": "code",
   "execution_count": 100,
   "id": "f57622ca",
   "metadata": {},
   "outputs": [
    {
     "name": "stdout",
     "output_type": "stream",
     "text": [
      "0.9985724482512491\n"
     ]
    }
   ],
   "source": [
    "print(accuracy_score(train['label'],\n",
    "                     lr_classifier.predict(X_train)))"
   ]
  },
  {
   "cell_type": "code",
   "execution_count": 101,
   "id": "26b40cbd",
   "metadata": {},
   "outputs": [],
   "source": [
    "val_prediction = lr_classifier.predict(X_val)"
   ]
  },
  {
   "cell_type": "code",
   "execution_count": 102,
   "id": "824be1d8",
   "metadata": {},
   "outputs": [
    {
     "name": "stdout",
     "output_type": "stream",
     "text": [
      "0.7674750356633381\n"
     ]
    }
   ],
   "source": [
    "print(accuracy_score(val['label'], val_prediction))"
   ]
  },
  {
   "cell_type": "markdown",
   "id": "971bad4e",
   "metadata": {},
   "source": [
    "What of the performance when stemming words?"
   ]
  },
  {
   "cell_type": "code",
   "execution_count": 28,
   "id": "0bce85c0",
   "metadata": {},
   "outputs": [],
   "source": [
    "eng_stemmer = SnowballStemmer(\"english\")\n",
    "\n",
    "def stem_sentence(sentence):\n",
    "    new_sentence = ''\n",
    "    for word in word_tokenize(sentence):\n",
    "        new_sentence = new_sentence + ' ' + eng_stemmer.stem(word)\n",
    "    return new_sentence"
   ]
  },
  {
   "cell_type": "code",
   "execution_count": 29,
   "id": "a9c1bca7",
   "metadata": {},
   "outputs": [],
   "source": [
    "train_stemtext = train['selftext'].apply(lambda x: stem_sentence(x))"
   ]
  },
  {
   "cell_type": "code",
   "execution_count": 30,
   "id": "7f693ee0",
   "metadata": {},
   "outputs": [],
   "source": [
    "vectorizer.fit(train_stemtext)\n",
    "X_train_stem = vectorizer.transform(train_stemtext)"
   ]
  },
  {
   "cell_type": "code",
   "execution_count": 31,
   "id": "f399a6a6",
   "metadata": {},
   "outputs": [
    {
     "data": {
      "text/plain": [
       "LogisticRegression(max_iter=1000)"
      ]
     },
     "execution_count": 31,
     "metadata": {},
     "output_type": "execute_result"
    }
   ],
   "source": [
    "lr_classifier.fit(X_train_stem, train['label'])"
   ]
  },
  {
   "cell_type": "code",
   "execution_count": 32,
   "id": "0dd9b90e",
   "metadata": {},
   "outputs": [
    {
     "name": "stdout",
     "output_type": "stream",
     "text": [
      "0.9982155603140613\n"
     ]
    }
   ],
   "source": [
    "print(accuracy_score(train['label'],\n",
    "                     lr_classifier.predict(X_train_stem)))"
   ]
  },
  {
   "cell_type": "code",
   "execution_count": 33,
   "id": "04e05e76",
   "metadata": {},
   "outputs": [],
   "source": [
    "val_stemtext = val['selftext'].apply(lambda x: stem_sentence(x))"
   ]
  },
  {
   "cell_type": "code",
   "execution_count": 34,
   "id": "7b740659",
   "metadata": {},
   "outputs": [],
   "source": [
    "X_val_stem = vectorizer.transform(val_stemtext)\n",
    "val_prediction_stem = lr_classifier.predict(X_val_stem)"
   ]
  },
  {
   "cell_type": "code",
   "execution_count": 35,
   "id": "417272d4",
   "metadata": {},
   "outputs": [
    {
     "name": "stdout",
     "output_type": "stream",
     "text": [
      "0.7503566333808844\n"
     ]
    }
   ],
   "source": [
    "print(accuracy_score(val['label'], val_prediction_stem))"
   ]
  },
  {
   "cell_type": "markdown",
   "id": "ec2c1eb0",
   "metadata": {},
   "source": [
    "Stemming words does not seem to inherently improve performance; hence, we shall stick to just vectorizing and removing stop words.\n",
    "\n",
    "Next, searching for the best parameters, via 10-fold cross-validation:"
   ]
  },
  {
   "cell_type": "code",
   "execution_count": 13,
   "id": "806efae6",
   "metadata": {},
   "outputs": [
    {
     "data": {
      "text/plain": [
       "CountVectorizer(ngram_range=(1, 3), stop_words='english')"
      ]
     },
     "execution_count": 13,
     "metadata": {},
     "output_type": "execute_result"
    }
   ],
   "source": [
    "vectorizer.fit(train['selftext'])"
   ]
  },
  {
   "cell_type": "code",
   "execution_count": 14,
   "id": "1ad239ae",
   "metadata": {},
   "outputs": [],
   "source": [
    "kfolds = StratifiedKFold(5)"
   ]
  },
  {
   "cell_type": "code",
   "execution_count": 22,
   "id": "b8861e9d",
   "metadata": {},
   "outputs": [],
   "source": [
    "parameters_lr = {'penalty' : ['l2'],\n",
    "    'C' : np.logspace(-1, 1, 10),\n",
    "    'solver' : ['saga'],\n",
    "    'class_weight': ['balanced'],\n",
    "    'multi_class': ['multinomial']}\n",
    "\n",
    "grid_lr = GridSearchCV(LogisticRegression(), \n",
    "                    parameters_lr, \n",
    "                    cv = 5,\n",
    "                    n_jobs = -1,\n",
    "                   verbose = 2)"
   ]
  },
  {
   "cell_type": "code",
   "execution_count": 23,
   "id": "3b620196",
   "metadata": {},
   "outputs": [],
   "source": [
    "cv_lr = GridSearchCV(lr_classifier, param_grid = parameters_lr, cv = kfolds.split(X_train, train['label']),\n",
    "                     verbose=2, n_jobs=-1)"
   ]
  },
  {
   "cell_type": "code",
   "execution_count": 24,
   "id": "618bdffd",
   "metadata": {},
   "outputs": [
    {
     "name": "stdout",
     "output_type": "stream",
     "text": [
      "Fitting 5 folds for each of 10 candidates, totalling 50 fits\n"
     ]
    },
    {
     "name": "stderr",
     "output_type": "stream",
     "text": [
      "C:\\Users\\ncozz\\anaconda3\\lib\\site-packages\\sklearn\\linear_model\\_sag.py:328: ConvergenceWarning: The max_iter was reached which means the coef_ did not converge\n",
      "  warnings.warn(\"The max_iter was reached which means \"\n"
     ]
    }
   ],
   "source": [
    "best_lr = cv_lr.fit(X_train, train['label'])"
   ]
  },
  {
   "cell_type": "code",
   "execution_count": 18,
   "id": "992d4ea8",
   "metadata": {},
   "outputs": [
    {
     "data": {
      "text/plain": [
       "{'C': 5.994842503189409, 'penalty': 'l2', 'solver': 'saga'}"
      ]
     },
     "execution_count": 18,
     "metadata": {},
     "output_type": "execute_result"
    }
   ],
   "source": [
    "best_lr.best_params_"
   ]
  },
  {
   "cell_type": "markdown",
   "id": "6356cac6",
   "metadata": {},
   "source": [
    "Fitting the model with the selected parameters:"
   ]
  },
  {
   "cell_type": "code",
   "execution_count": 41,
   "id": "d4151873",
   "metadata": {},
   "outputs": [
    {
     "name": "stdout",
     "output_type": "stream",
     "text": [
      "0.9282655246252677\n"
     ]
    },
    {
     "name": "stderr",
     "output_type": "stream",
     "text": [
      "C:\\Users\\ncozz\\anaconda3\\lib\\site-packages\\sklearn\\linear_model\\_sag.py:328: ConvergenceWarning: The max_iter was reached which means the coef_ did not converge\n",
      "  warnings.warn(\"The max_iter was reached which means \"\n"
     ]
    }
   ],
   "source": [
    "# train accuracy:\n",
    "lr_classifier = LogisticRegression(max_iter=1000, multi_class='multinomial',\n",
    "                                   C=6, class_weight='balanced',\n",
    "                                   penalty='l2', solver='saga')\n",
    "lr_classifier.fit(X_train, train['label'])\n",
    "print(accuracy_score(train['label'],\n",
    "                     lr_classifier.predict(X_train)))"
   ]
  },
  {
   "cell_type": "code",
   "execution_count": 42,
   "id": "ed63a560",
   "metadata": {},
   "outputs": [
    {
     "name": "stdout",
     "output_type": "stream",
     "text": [
      "0.7631954350927247\n"
     ]
    }
   ],
   "source": [
    "# validation accuracy:\n",
    "val_prediction_lr = lr_classifier.predict(X_val)\n",
    "print(accuracy_score(val['label'], val_prediction))"
   ]
  },
  {
   "cell_type": "markdown",
   "id": "115ce1fa",
   "metadata": {},
   "source": [
    "----------------\n",
    "### 2.2 K-nearest neighbors\n",
    "\n",
    "This is a non-parametric model; it is based on the estimation of a label based on the text of its nearest *k* neighbors - based off Euclidean distance.\n",
    "\n",
    "An analogous procedure as of the MLR follows:"
   ]
  },
  {
   "cell_type": "code",
   "execution_count": 259,
   "id": "9bf73e17",
   "metadata": {},
   "outputs": [],
   "source": [
    "kfolds = StratifiedKFold(5)\n",
    "parameters = {'n_neighbors' : [3,5,7,9,11,13,15,17,19],\n",
    "              'weights'      : ['distance', 'uniform']}\n",
    "\n",
    "grid_kn = GridSearchCV(KNeighborsClassifier(), \n",
    "                    parameters, \n",
    "                    cv = kfolds.split(X_train, train['label']),\n",
    "                    n_jobs = -1,\n",
    "                   verbose = 2)"
   ]
  },
  {
   "cell_type": "code",
   "execution_count": 260,
   "id": "24672df5",
   "metadata": {},
   "outputs": [
    {
     "name": "stdout",
     "output_type": "stream",
     "text": [
      "Fitting 5 folds for each of 18 candidates, totalling 90 fits\n"
     ]
    },
    {
     "data": {
      "text/plain": [
       "GridSearchCV(cv=<generator object _BaseKFold.split at 0x000002A81989AE40>,\n",
       "             estimator=KNeighborsClassifier(), n_jobs=-1,\n",
       "             param_grid={'n_neighbors': [3, 5, 7, 9, 11, 13, 15, 17, 19],\n",
       "                         'weights': ['distance', 'uniform']},\n",
       "             verbose=2)"
      ]
     },
     "execution_count": 260,
     "metadata": {},
     "output_type": "execute_result"
    }
   ],
   "source": [
    "grid_kn.fit(X_train, train['label'])"
   ]
  },
  {
   "cell_type": "code",
   "execution_count": 261,
   "id": "ab682c3a",
   "metadata": {},
   "outputs": [
    {
     "name": "stdout",
     "output_type": "stream",
     "text": [
      "{'n_neighbors': 15, 'weights': 'distance'}\n"
     ]
    }
   ],
   "source": [
    "print(grid_kn.best_params_)"
   ]
  },
  {
   "cell_type": "code",
   "execution_count": 262,
   "id": "57afe064",
   "metadata": {},
   "outputs": [],
   "source": [
    "knn_classifier = KNeighborsClassifier(n_neighbors = 15, weights = 'distance')"
   ]
  },
  {
   "cell_type": "code",
   "execution_count": 263,
   "id": "3066a60a",
   "metadata": {},
   "outputs": [
    {
     "data": {
      "text/plain": [
       "KNeighborsClassifier(n_neighbors=15, weights='distance')"
      ]
     },
     "execution_count": 263,
     "metadata": {},
     "output_type": "execute_result"
    }
   ],
   "source": [
    "knn_classifier.fit(X_train, train['label'])"
   ]
  },
  {
   "cell_type": "code",
   "execution_count": 264,
   "id": "bde760d6",
   "metadata": {},
   "outputs": [
    {
     "name": "stdout",
     "output_type": "stream",
     "text": [
      "0.9989293361884368\n"
     ]
    }
   ],
   "source": [
    "# train accuracy:\n",
    "knn_prediction = knn_classifier.predict(X_train)\n",
    "print(accuracy_score(train['label'],\n",
    "                     knn_prediction))"
   ]
  },
  {
   "cell_type": "code",
   "execution_count": 265,
   "id": "1ad41bae",
   "metadata": {},
   "outputs": [
    {
     "name": "stdout",
     "output_type": "stream",
     "text": [
      "0.42082738944365194\n"
     ]
    }
   ],
   "source": [
    "# validation accuracy:\n",
    "knn_val_prediction = knn_classifier.predict(X_val)\n",
    "print(accuracy_score(val['label'], knn_val_prediction))"
   ]
  },
  {
   "cell_type": "markdown",
   "id": "36a6233f",
   "metadata": {},
   "source": [
    "## 2.3. Random forest classifier\n",
    "\n",
    "This model, also non-parametric, allows for a decision tree based off averaging multiple \"deep\" decision trees, selecting for this purpose minimum and maximum depth/features/leaves, and attempting to reduce the entropy (measurement of \"disorder\") of the resulting classifier.\n",
    "\n",
    "The script is as follows:"
   ]
  },
  {
   "cell_type": "code",
   "execution_count": 25,
   "id": "e927dd64",
   "metadata": {},
   "outputs": [],
   "source": [
    "rfc = RandomForestClassifier()\n",
    "rf_param_grid = {'n_estimators':[1000, 3000], \"max_depth\": [None],\n",
    "          \"max_features\": [3000, 10000], \"min_samples_leaf\": [2], \"criterion\": [\"entropy\"]}"
   ]
  },
  {
   "cell_type": "code",
   "execution_count": 26,
   "id": "d7bef0c0",
   "metadata": {},
   "outputs": [],
   "source": [
    "cv_rf = GridSearchCV(rfc, param_grid = rf_param_grid, cv = kfolds.split(X_train, train['label']),\n",
    "                     verbose=2, n_jobs=-1)"
   ]
  },
  {
   "cell_type": "code",
   "execution_count": 27,
   "id": "55858e05",
   "metadata": {},
   "outputs": [
    {
     "name": "stdout",
     "output_type": "stream",
     "text": [
      "Fitting 10 folds for each of 54 candidates, totalling 540 fits\n"
     ]
    }
   ],
   "source": [
    "best_rf = cv_rf.fit(X_train, train['label'])"
   ]
  },
  {
   "cell_type": "code",
   "execution_count": 28,
   "id": "84b35de5",
   "metadata": {},
   "outputs": [
    {
     "data": {
      "text/plain": [
       "{'criterion': 'entropy',\n",
       " 'max_depth': None,\n",
       " 'max_features': 3000,\n",
       " 'min_samples_leaf': 2,\n",
       " 'n_estimators': 1000}"
      ]
     },
     "execution_count": 28,
     "metadata": {},
     "output_type": "execute_result"
    }
   ],
   "source": [
    "best_rf.best_params_"
   ]
  },
  {
   "cell_type": "code",
   "execution_count": 43,
   "id": "b8fb3f24",
   "metadata": {},
   "outputs": [
    {
     "data": {
      "text/plain": [
       "RandomForestClassifier(criterion='entropy', max_features=3000,\n",
       "                       min_samples_leaf=2, n_estimators=1000)"
      ]
     },
     "execution_count": 43,
     "metadata": {},
     "output_type": "execute_result"
    }
   ],
   "source": [
    "rfc = RandomForestClassifier(criterion= 'entropy', max_depth=None, max_features= 3000,\n",
    "                             min_samples_leaf= 2, n_estimators= 1000)\n",
    "rfc.fit(X_train, train['label'])"
   ]
  },
  {
   "cell_type": "code",
   "execution_count": 44,
   "id": "19d66c58",
   "metadata": {},
   "outputs": [
    {
     "name": "stdout",
     "output_type": "stream",
     "text": [
      "0.9018558172733762\n"
     ]
    }
   ],
   "source": [
    "# train accuracy:\n",
    "print(accuracy_score(train['label'],\n",
    "                     rfc.predict(X_train)))"
   ]
  },
  {
   "cell_type": "code",
   "execution_count": 45,
   "id": "b4dfe05d",
   "metadata": {},
   "outputs": [
    {
     "name": "stdout",
     "output_type": "stream",
     "text": [
      "0.7303851640513552\n"
     ]
    }
   ],
   "source": [
    "# validation accuracy:\n",
    "rfc_val_prediction = rfc.predict(X_val)\n",
    "print(accuracy_score(val['label'], rfc_val_prediction))"
   ]
  },
  {
   "cell_type": "markdown",
   "id": "e8b84322",
   "metadata": {},
   "source": [
    "-------\n",
    "\n",
    "**So, which model shall we choose to implement?**\n",
    "\n",
    "The logistic regression proves, in the current scenario, to be superior to K-nearest neighbors for predicting the label (political leaning) of the selected reddit posts - using as criteria the accuracy over the validation set.\n",
    "\n",
    "The lackluster performance of KNN might have to do with it not only being inherently non-parametric, but based off of distances between different observation's features (words in the text), leading to potential overfitting and low adaptability when one does not possess a large enough dataset - i.e., very high diversity of text topics and styles. This is further accentuated when one considers that language is an inherent and defining trait of human expression and identity, and can lead to an infinite amount of arrangements and combinations of its signifiers.\n",
    "\n",
    "Random forest classifier has a decent performance, since it is based off of decision paths and accounts for entropy (the level of information and uncertainty contained in the possible outcomes). Still, logistic regression shows slightly better performance, in terms of validation set accuracy (76.3% versus 73%).\n",
    "\n",
    "---------\n",
    "\n",
    "What of the possibility of misclassifying being higher for certain classes (*labels*)? Let us plot heatmaps for classifications of MLR and RFC applied to the validation set predictions:"
   ]
  },
  {
   "cell_type": "code",
   "execution_count": 267,
   "id": "f4aa0722",
   "metadata": {},
   "outputs": [
    {
     "data": {
      "text/plain": [
       "<AxesSubplot:>"
      ]
     },
     "execution_count": 267,
     "metadata": {},
     "output_type": "execute_result"
    },
    {
     "data": {
      "image/png": "[encoded data removed]",
      "text/plain": [
       "<Figure size 432x288 with 2 Axes>"
      ]
     },
     "metadata": {
      "needs_background": "light"
     },
     "output_type": "display_data"
    }
   ],
   "source": [
    "# Heatmap for multinomial logistic regression classifier:\n",
    "cm = confusion_matrix(val['label'], val_prediction_lr)\n",
    "sns.heatmap(cm, annot=True, cmap=\"Greens\", fmt='g')"
   ]
  },
  {
   "cell_type": "code",
   "execution_count": 46,
   "id": "c052587d",
   "metadata": {},
   "outputs": [
    {
     "data": {
      "text/plain": [
       "<AxesSubplot:>"
      ]
     },
     "execution_count": 46,
     "metadata": {},
     "output_type": "execute_result"
    },
    {
     "data": {
      "image/png": "[encoded data removed]",
      "text/plain": [
       "<Figure size 432x288 with 2 Axes>"
      ]
     },
     "metadata": {
      "needs_background": "light"
     },
     "output_type": "display_data"
    }
   ],
   "source": [
    "# Heatmap for random forest classifier:\n",
    "cm2 = confusion_matrix(val['label'], rfc_val_prediction)\n",
    "sns.heatmap(cm2, annot=True, cmap=\"Greens\", fmt='g')"
   ]
  },
  {
   "cell_type": "markdown",
   "id": "5f4facf8",
   "metadata": {},
   "source": [
    "We can observe that the Random Forest Classifier does a relatively poor job at predicting right-winged posts; the multinomial logistic regression has much more balanced predictions.\n",
    "\n",
    "**Thus, we stick to multinomial logistic regression for labeling the test dataset.**\n",
    "\n",
    "------\n",
    "\n",
    "Let us now implement this classification model, and go back to the original question."
   ]
  },
  {
   "cell_type": "markdown",
   "id": "7a96afa4",
   "metadata": {},
   "source": [
    "--------------\n",
    "\n",
    "## 3. Creating and implementing a test dataset\n",
    "\n",
    "In this section, we are going to scrape posts from popular, politics-related, and not inherently biased (at least nominally) subreddits.\n",
    "The ones selected are related directly to discussion in general, politics, economics, and news in general.\n",
    "\n",
    "Posts are scraped for 2018, 2019, 2020 and 2021, with the purpose of evaluating a potential shift in political leaning of different subreddits over time.\n",
    "\n",
    "In order to accomplish this, we first predict the political leaning of each of these posts, using the \"best model\" based on the results of the previous section.\n",
    "\n",
    "-------"
   ]
  },
  {
   "cell_type": "markdown",
   "id": "71d0748d",
   "metadata": {},
   "source": [
    "It is worth mentioning that there are strong caveats regarding the upcoming insights:\n",
    "* Since both the train and test datasets are based off of arbitrary posts, whatever patterns may come out of this notebook are in no shape or form conclusive for the whole website\n",
    "* There is an endless spectrum of topics which has not been considered in the train dataset - to quote Ludwig Wittgenstein, \"*language is a part of our organism and no less complicated than it*\" -; this might heavily contribute to misclassification of the test dataset's posts\n",
    "* Also regarding misclassification, an alternative to mitigate it could have been labeling part of the test dataset's posts manually based on their content, and including them in the training phase; this, however, would not only imply a significant time investment, but would also add an undesirable level of subjectivity into any upcoming insights\n",
    "\n",
    "---------\n",
    "\n",
    "Back to scraping the test dataset, we define the subreddits below, and apply the previously defined algorithm for scraping:"
   ]
  },
  {
   "cell_type": "code",
   "execution_count": 98,
   "id": "ce771a45",
   "metadata": {},
   "outputs": [],
   "source": [
    "test_subreddits = ['worldnews', 'news', 'economics', 'politics','worldpolitics','nostupidquestions',\n",
    "                  'askreddit','offmychest','changemyview','politicaldiscussion']\n",
    "test = pd.DataFrame(columns=['created','subreddit','selftext','label'])"
   ]
  },
  {
   "cell_type": "code",
   "execution_count": 100,
   "id": "8d50b13c",
   "metadata": {},
   "outputs": [],
   "source": [
    "# scraping posts from popular forums with discussion:\n",
    "for sub in test_subreddits:\n",
    "    for year in [2018, 2019, 2020]:\n",
    "        for month in [5]: # due to computational time, only may is scraped\n",
    "            try:\n",
    "                test = test.append(monthscrapesub(sub, '', year, month))\n",
    "            except:\n",
    "                pass\n",
    "    for month in [5]: # due to computational time, only may is scraped\n",
    "        try:\n",
    "            test = test.append(monthscrapesub(sub, '', 2021, month))\n",
    "        except:\n",
    "            pass"
   ]
  },
  {
   "cell_type": "code",
   "execution_count": 21,
   "id": "52c18ad0",
   "metadata": {},
   "outputs": [],
   "source": [
    "# scraping posts from popular forums with discussion:\n",
    "for sub in ['changemyview','politicaldiscussion']:\n",
    "    for year in [2018, 2019, 2020]:\n",
    "        for month in [5]: # due to computational time, only may is scraped\n",
    "            try:\n",
    "                test = test.append(monthscrapesub(sub, '', year, month))\n",
    "            except:\n",
    "                pass\n",
    "    for month in [5]: # due to computational time, only may is scraped\n",
    "        try:\n",
    "            test = test.append(monthscrapesub(sub, '', 2021, month))\n",
    "        except:\n",
    "            pass"
   ]
  },
  {
   "cell_type": "code",
   "execution_count": 114,
   "id": "1583202e",
   "metadata": {},
   "outputs": [
    {
     "name": "stdout",
     "output_type": "stream",
     "text": [
      "(3693, 6)\n"
     ]
    }
   ],
   "source": [
    "test = test.drop_duplicates()\n",
    "print(test.shape)"
   ]
  },
  {
   "cell_type": "code",
   "execution_count": 23,
   "id": "04fa55ba",
   "metadata": {},
   "outputs": [],
   "source": [
    "# again, it's always good to back up your data!\n",
    "# test = test.drop_duplicates()\n",
    "# test.to_csv(r'C:\\Users\\ncozz\\Documents\\--- KUL\\2 Sem\\Collecting Big Data\\testbigdata.csv', index = False)"
   ]
  },
  {
   "cell_type": "code",
   "execution_count": 47,
   "id": "0a844288",
   "metadata": {},
   "outputs": [],
   "source": [
    "# loading data\n",
    "# test = pd.read_csv('C:/Users/ncozz/Documents/--- KUL/2 Sem/Collecting Big Data/testbigdata.csv')"
   ]
  },
  {
   "cell_type": "code",
   "execution_count": 48,
   "id": "a358082f",
   "metadata": {},
   "outputs": [],
   "source": [
    "test['year'] = pd.to_datetime(test['created'])\n",
    "test['year'] = test['year'].apply(lambda x: x.year)"
   ]
  },
  {
   "cell_type": "code",
   "execution_count": 103,
   "id": "da3c52ec",
   "metadata": {},
   "outputs": [
    {
     "data": {
      "text/html": [
       "<div>\n",
       "<style scoped>\n",
       "    .dataframe tbody tr th:only-of-type {\n",
       "        vertical-align: middle;\n",
       "    }\n",
       "\n",
       "    .dataframe tbody tr th {\n",
       "        vertical-align: top;\n",
       "    }\n",
       "\n",
       "    .dataframe thead th {\n",
       "        text-align: right;\n",
       "    }\n",
       "</style>\n",
       "<table border=\"1\" class=\"dataframe\">\n",
       "  <thead>\n",
       "    <tr style=\"text-align: right;\">\n",
       "      <th></th>\n",
       "      <th>created</th>\n",
       "      <th>subreddit</th>\n",
       "      <th>selftext</th>\n",
       "    </tr>\n",
       "  </thead>\n",
       "  <tbody>\n",
       "    <tr>\n",
       "      <th>1059</th>\n",
       "      <td>5/24/2021 4:55</td>\n",
       "      <td>NoStupidQuestions</td>\n",
       "      <td>Hi! I have really bad anxiety especially in si...</td>\n",
       "    </tr>\n",
       "    <tr>\n",
       "      <th>2941</th>\n",
       "      <td>2018-05-30 03:21:07</td>\n",
       "      <td>changemyview</td>\n",
       "      <td>I believe that if the NFL players want to prot...</td>\n",
       "    </tr>\n",
       "    <tr>\n",
       "      <th>2966</th>\n",
       "      <td>2019-05-02 00:45:52</td>\n",
       "      <td>changemyview</td>\n",
       "      <td>#WARNING: SPOILERS\\n\\nI thought Endgame was wo...</td>\n",
       "    </tr>\n",
       "    <tr>\n",
       "      <th>251</th>\n",
       "      <td>5/25/2018 17:57</td>\n",
       "      <td>NoStupidQuestions</td>\n",
       "      <td>In this hypothetical, both are creatures of si...</td>\n",
       "    </tr>\n",
       "    <tr>\n",
       "      <th>1060</th>\n",
       "      <td>5/24/2021 3:17</td>\n",
       "      <td>NoStupidQuestions</td>\n",
       "      <td>Hello all! Wondering if someone could walk me ...</td>\n",
       "    </tr>\n",
       "    <tr>\n",
       "      <th>3177</th>\n",
       "      <td>2019-05-25 13:37:17</td>\n",
       "      <td>changemyview</td>\n",
       "      <td>The purpose of giving the executive emergency ...</td>\n",
       "    </tr>\n",
       "    <tr>\n",
       "      <th>253</th>\n",
       "      <td>5/22/2018 22:17</td>\n",
       "      <td>NoStupidQuestions</td>\n",
       "      <td>Assuming they were prepared in the same way</td>\n",
       "    </tr>\n",
       "    <tr>\n",
       "      <th>3364</th>\n",
       "      <td>2020-05-17 08:53:11</td>\n",
       "      <td>changemyview</td>\n",
       "      <td>Humanity went generations having to critically...</td>\n",
       "    </tr>\n",
       "    <tr>\n",
       "      <th>3673</th>\n",
       "      <td>2021-05-19 02:12:24</td>\n",
       "      <td>PoliticalDiscussion</td>\n",
       "      <td>[Val Demmings (D-FL) appears poised to challen...</td>\n",
       "    </tr>\n",
       "    <tr>\n",
       "      <th>3316</th>\n",
       "      <td>2020-05-15 01:07:51</td>\n",
       "      <td>changemyview</td>\n",
       "      <td>This post is about presidential elections in t...</td>\n",
       "    </tr>\n",
       "  </tbody>\n",
       "</table>\n",
       "</div>"
      ],
      "text/plain": [
       "                  created            subreddit  \\\n",
       "1059       5/24/2021 4:55    NoStupidQuestions   \n",
       "2941  2018-05-30 03:21:07         changemyview   \n",
       "2966  2019-05-02 00:45:52         changemyview   \n",
       "251       5/25/2018 17:57    NoStupidQuestions   \n",
       "1060       5/24/2021 3:17    NoStupidQuestions   \n",
       "3177  2019-05-25 13:37:17         changemyview   \n",
       "253       5/22/2018 22:17    NoStupidQuestions   \n",
       "3364  2020-05-17 08:53:11         changemyview   \n",
       "3673  2021-05-19 02:12:24  PoliticalDiscussion   \n",
       "3316  2020-05-15 01:07:51         changemyview   \n",
       "\n",
       "                                               selftext  \n",
       "1059  Hi! I have really bad anxiety especially in si...  \n",
       "2941  I believe that if the NFL players want to prot...  \n",
       "2966  #WARNING: SPOILERS\\n\\nI thought Endgame was wo...  \n",
       "251   In this hypothetical, both are creatures of si...  \n",
       "1060  Hello all! Wondering if someone could walk me ...  \n",
       "3177  The purpose of giving the executive emergency ...  \n",
       "253         Assuming they were prepared in the same way  \n",
       "3364  Humanity went generations having to critically...  \n",
       "3673  [Val Demmings (D-FL) appears poised to challen...  \n",
       "3316  This post is about presidential elections in t...  "
      ]
     },
     "execution_count": 103,
     "metadata": {},
     "output_type": "execute_result"
    }
   ],
   "source": [
    "test[['created','subreddit','selftext']].sample(10)"
   ]
  },
  {
   "cell_type": "code",
   "execution_count": 104,
   "id": "8cfda0c9",
   "metadata": {},
   "outputs": [
    {
     "name": "stdout",
     "output_type": "stream",
     "text": [
      "offmychest             1392\n",
      "NoStupidQuestions      1108\n",
      "changemyview            973\n",
      "PoliticalDiscussion     170\n",
      "worldpolitics            19\n",
      "politics                 14\n",
      "Economics                 8\n",
      "AskReddit                 6\n",
      "news                      2\n",
      "worldnews                 1\n",
      "Name: subreddit, dtype: int64\n"
     ]
    }
   ],
   "source": [
    "print(test['subreddit'].value_counts())"
   ]
  },
  {
   "cell_type": "markdown",
   "id": "10f279c1",
   "metadata": {},
   "source": [
    "### Predicting test reddit posts' political leanings\n",
    "\n",
    "As stated beforehand, we implement the selected prediction model (multinomial logistic regression) for labeling subreddit posts, with vectorized texts and stop words removed:"
   ]
  },
  {
   "cell_type": "code",
   "execution_count": 49,
   "id": "2b2f23de",
   "metadata": {},
   "outputs": [],
   "source": [
    "X_test = vectorizer.transform(test['selftext'])"
   ]
  },
  {
   "cell_type": "code",
   "execution_count": 268,
   "id": "12194102",
   "metadata": {},
   "outputs": [
    {
     "data": {
      "text/plain": [
       "none     2226\n",
       "left      909\n",
       "right     558\n",
       "Name: label_prediction, dtype: int64"
      ]
     },
     "execution_count": 268,
     "metadata": {},
     "output_type": "execute_result"
    }
   ],
   "source": [
    "test['label_prediction'] = lr_classifier.predict(X_test)\n",
    "test['label_prediction'].value_counts()"
   ]
  },
  {
   "cell_type": "markdown",
   "id": "03bcd67d",
   "metadata": {},
   "source": [
    "Most predicted posts seem to have a rather \"neutral\" inclination, regarding political affiliation."
   ]
  },
  {
   "cell_type": "code",
   "execution_count": 51,
   "id": "9aa71f71",
   "metadata": {},
   "outputs": [
    {
     "data": {
      "text/html": [
       "<div>\n",
       "<style scoped>\n",
       "    .dataframe tbody tr th:only-of-type {\n",
       "        vertical-align: middle;\n",
       "    }\n",
       "\n",
       "    .dataframe tbody tr th {\n",
       "        vertical-align: top;\n",
       "    }\n",
       "\n",
       "    .dataframe thead th {\n",
       "        text-align: right;\n",
       "    }\n",
       "</style>\n",
       "<table border=\"1\" class=\"dataframe\">\n",
       "  <thead>\n",
       "    <tr style=\"text-align: right;\">\n",
       "      <th>label_prediction</th>\n",
       "      <th>left</th>\n",
       "      <th>none</th>\n",
       "      <th>right</th>\n",
       "    </tr>\n",
       "    <tr>\n",
       "      <th>year</th>\n",
       "      <th></th>\n",
       "      <th></th>\n",
       "      <th></th>\n",
       "    </tr>\n",
       "  </thead>\n",
       "  <tbody>\n",
       "    <tr>\n",
       "      <th>2018</th>\n",
       "      <td>264</td>\n",
       "      <td>630</td>\n",
       "      <td>226</td>\n",
       "    </tr>\n",
       "    <tr>\n",
       "      <th>2019</th>\n",
       "      <td>229</td>\n",
       "      <td>629</td>\n",
       "      <td>145</td>\n",
       "    </tr>\n",
       "    <tr>\n",
       "      <th>2020</th>\n",
       "      <td>244</td>\n",
       "      <td>462</td>\n",
       "      <td>101</td>\n",
       "    </tr>\n",
       "    <tr>\n",
       "      <th>2021</th>\n",
       "      <td>172</td>\n",
       "      <td>505</td>\n",
       "      <td>86</td>\n",
       "    </tr>\n",
       "  </tbody>\n",
       "</table>\n",
       "</div>"
      ],
      "text/plain": [
       "label_prediction  left  none  right\n",
       "year                               \n",
       "2018               264   630    226\n",
       "2019               229   629    145\n",
       "2020               244   462    101\n",
       "2021               172   505     86"
      ]
     },
     "execution_count": 51,
     "metadata": {},
     "output_type": "execute_result"
    }
   ],
   "source": [
    "test.groupby(['year', 'label_prediction']).size().unstack(fill_value=0)"
   ]
  },
  {
   "cell_type": "code",
   "execution_count": 269,
   "id": "ccd00b9e",
   "metadata": {},
   "outputs": [
    {
     "data": {
      "text/plain": [
       "offmychest             1392\n",
       "NoStupidQuestions      1108\n",
       "changemyview            973\n",
       "PoliticalDiscussion     170\n",
       "worldpolitics            19\n",
       "politics                 14\n",
       "Economics                 8\n",
       "AskReddit                 6\n",
       "news                      2\n",
       "worldnews                 1\n",
       "Name: subreddit, dtype: int64"
      ]
     },
     "execution_count": 269,
     "metadata": {},
     "output_type": "execute_result"
    }
   ],
   "source": [
    "test['subreddit'].value_counts()"
   ]
  },
  {
   "cell_type": "markdown",
   "id": "32edd112",
   "metadata": {},
   "source": [
    "---------------\n",
    "\n",
    "Let us stick to the four subreddits with most observations in out test dataset.\n",
    "\n",
    "A bit of counting for each subreddit's predicted labels:"
   ]
  },
  {
   "cell_type": "code",
   "execution_count": 52,
   "id": "303e3513",
   "metadata": {},
   "outputs": [],
   "source": [
    "largest_sr = ['PoliticalDiscussion','NoStupidQuestions','changemyview','offmychest']\n",
    "largest_sr_df = test.loc[test.subreddit.isin(largest_sr)]"
   ]
  },
  {
   "cell_type": "code",
   "execution_count": 53,
   "id": "09550dd2",
   "metadata": {},
   "outputs": [
    {
     "data": {
      "text/html": [
       "<div>\n",
       "<style scoped>\n",
       "    .dataframe tbody tr th:only-of-type {\n",
       "        vertical-align: middle;\n",
       "    }\n",
       "\n",
       "    .dataframe tbody tr th {\n",
       "        vertical-align: top;\n",
       "    }\n",
       "\n",
       "    .dataframe thead th {\n",
       "        text-align: right;\n",
       "    }\n",
       "</style>\n",
       "<table border=\"1\" class=\"dataframe\">\n",
       "  <thead>\n",
       "    <tr style=\"text-align: right;\">\n",
       "      <th></th>\n",
       "      <th>label_prediction</th>\n",
       "      <th>left</th>\n",
       "      <th>none</th>\n",
       "      <th>right</th>\n",
       "    </tr>\n",
       "    <tr>\n",
       "      <th>year</th>\n",
       "      <th>subreddit</th>\n",
       "      <th></th>\n",
       "      <th></th>\n",
       "      <th></th>\n",
       "    </tr>\n",
       "  </thead>\n",
       "  <tbody>\n",
       "    <tr>\n",
       "      <th>2018</th>\n",
       "      <th>PoliticalDiscussion</th>\n",
       "      <td>25</td>\n",
       "      <td>11</td>\n",
       "      <td>28</td>\n",
       "    </tr>\n",
       "    <tr>\n",
       "      <th>2019</th>\n",
       "      <th>PoliticalDiscussion</th>\n",
       "      <td>17</td>\n",
       "      <td>4</td>\n",
       "      <td>16</td>\n",
       "    </tr>\n",
       "    <tr>\n",
       "      <th>2020</th>\n",
       "      <th>PoliticalDiscussion</th>\n",
       "      <td>10</td>\n",
       "      <td>3</td>\n",
       "      <td>11</td>\n",
       "    </tr>\n",
       "    <tr>\n",
       "      <th>2021</th>\n",
       "      <th>PoliticalDiscussion</th>\n",
       "      <td>15</td>\n",
       "      <td>10</td>\n",
       "      <td>20</td>\n",
       "    </tr>\n",
       "  </tbody>\n",
       "</table>\n",
       "</div>"
      ],
      "text/plain": [
       "label_prediction          left  none  right\n",
       "year subreddit                             \n",
       "2018 PoliticalDiscussion    25    11     28\n",
       "2019 PoliticalDiscussion    17     4     16\n",
       "2020 PoliticalDiscussion    10     3     11\n",
       "2021 PoliticalDiscussion    15    10     20"
      ]
     },
     "execution_count": 53,
     "metadata": {},
     "output_type": "execute_result"
    }
   ],
   "source": [
    "test.loc[test.subreddit==largest_sr[0]].groupby(\n",
    "    ['year', 'subreddit', 'label_prediction']).size().unstack(fill_value=0)"
   ]
  },
  {
   "cell_type": "code",
   "execution_count": 54,
   "id": "fb07ee46",
   "metadata": {},
   "outputs": [
    {
     "data": {
      "text/html": [
       "<div>\n",
       "<style scoped>\n",
       "    .dataframe tbody tr th:only-of-type {\n",
       "        vertical-align: middle;\n",
       "    }\n",
       "\n",
       "    .dataframe tbody tr th {\n",
       "        vertical-align: top;\n",
       "    }\n",
       "\n",
       "    .dataframe thead th {\n",
       "        text-align: right;\n",
       "    }\n",
       "</style>\n",
       "<table border=\"1\" class=\"dataframe\">\n",
       "  <thead>\n",
       "    <tr style=\"text-align: right;\">\n",
       "      <th></th>\n",
       "      <th>label_prediction</th>\n",
       "      <th>left</th>\n",
       "      <th>none</th>\n",
       "      <th>right</th>\n",
       "    </tr>\n",
       "    <tr>\n",
       "      <th>year</th>\n",
       "      <th>subreddit</th>\n",
       "      <th></th>\n",
       "      <th></th>\n",
       "      <th></th>\n",
       "    </tr>\n",
       "  </thead>\n",
       "  <tbody>\n",
       "    <tr>\n",
       "      <th>2018</th>\n",
       "      <th>NoStupidQuestions</th>\n",
       "      <td>47</td>\n",
       "      <td>194</td>\n",
       "      <td>31</td>\n",
       "    </tr>\n",
       "    <tr>\n",
       "      <th>2019</th>\n",
       "      <th>NoStupidQuestions</th>\n",
       "      <td>59</td>\n",
       "      <td>175</td>\n",
       "      <td>20</td>\n",
       "    </tr>\n",
       "    <tr>\n",
       "      <th>2020</th>\n",
       "      <th>NoStupidQuestions</th>\n",
       "      <td>75</td>\n",
       "      <td>164</td>\n",
       "      <td>36</td>\n",
       "    </tr>\n",
       "    <tr>\n",
       "      <th>2021</th>\n",
       "      <th>NoStupidQuestions</th>\n",
       "      <td>65</td>\n",
       "      <td>215</td>\n",
       "      <td>27</td>\n",
       "    </tr>\n",
       "  </tbody>\n",
       "</table>\n",
       "</div>"
      ],
      "text/plain": [
       "label_prediction        left  none  right\n",
       "year subreddit                           \n",
       "2018 NoStupidQuestions    47   194     31\n",
       "2019 NoStupidQuestions    59   175     20\n",
       "2020 NoStupidQuestions    75   164     36\n",
       "2021 NoStupidQuestions    65   215     27"
      ]
     },
     "execution_count": 54,
     "metadata": {},
     "output_type": "execute_result"
    }
   ],
   "source": [
    "test.loc[test.subreddit==largest_sr[1]].groupby(\n",
    "    ['year', 'subreddit', 'label_prediction']).size().unstack(fill_value=0)"
   ]
  },
  {
   "cell_type": "code",
   "execution_count": 55,
   "id": "2b6a8b16",
   "metadata": {},
   "outputs": [
    {
     "data": {
      "text/html": [
       "<div>\n",
       "<style scoped>\n",
       "    .dataframe tbody tr th:only-of-type {\n",
       "        vertical-align: middle;\n",
       "    }\n",
       "\n",
       "    .dataframe tbody tr th {\n",
       "        vertical-align: top;\n",
       "    }\n",
       "\n",
       "    .dataframe thead th {\n",
       "        text-align: right;\n",
       "    }\n",
       "</style>\n",
       "<table border=\"1\" class=\"dataframe\">\n",
       "  <thead>\n",
       "    <tr style=\"text-align: right;\">\n",
       "      <th></th>\n",
       "      <th>label_prediction</th>\n",
       "      <th>left</th>\n",
       "      <th>none</th>\n",
       "      <th>right</th>\n",
       "    </tr>\n",
       "    <tr>\n",
       "      <th>year</th>\n",
       "      <th>subreddit</th>\n",
       "      <th></th>\n",
       "      <th></th>\n",
       "      <th></th>\n",
       "    </tr>\n",
       "  </thead>\n",
       "  <tbody>\n",
       "    <tr>\n",
       "      <th>2018</th>\n",
       "      <th>changemyview</th>\n",
       "      <td>135</td>\n",
       "      <td>121</td>\n",
       "      <td>149</td>\n",
       "    </tr>\n",
       "    <tr>\n",
       "      <th>2019</th>\n",
       "      <th>changemyview</th>\n",
       "      <td>113</td>\n",
       "      <td>113</td>\n",
       "      <td>78</td>\n",
       "    </tr>\n",
       "    <tr>\n",
       "      <th>2020</th>\n",
       "      <th>changemyview</th>\n",
       "      <td>84</td>\n",
       "      <td>49</td>\n",
       "      <td>34</td>\n",
       "    </tr>\n",
       "    <tr>\n",
       "      <th>2021</th>\n",
       "      <th>changemyview</th>\n",
       "      <td>39</td>\n",
       "      <td>37</td>\n",
       "      <td>21</td>\n",
       "    </tr>\n",
       "  </tbody>\n",
       "</table>\n",
       "</div>"
      ],
      "text/plain": [
       "label_prediction   left  none  right\n",
       "year subreddit                      \n",
       "2018 changemyview   135   121    149\n",
       "2019 changemyview   113   113     78\n",
       "2020 changemyview    84    49     34\n",
       "2021 changemyview    39    37     21"
      ]
     },
     "execution_count": 55,
     "metadata": {},
     "output_type": "execute_result"
    }
   ],
   "source": [
    "test.loc[test.subreddit==largest_sr[2]].groupby(\n",
    "    ['year', 'subreddit', 'label_prediction']).size().unstack(fill_value=0)"
   ]
  },
  {
   "cell_type": "code",
   "execution_count": 56,
   "id": "9bd45395",
   "metadata": {},
   "outputs": [
    {
     "data": {
      "text/html": [
       "<div>\n",
       "<style scoped>\n",
       "    .dataframe tbody tr th:only-of-type {\n",
       "        vertical-align: middle;\n",
       "    }\n",
       "\n",
       "    .dataframe tbody tr th {\n",
       "        vertical-align: top;\n",
       "    }\n",
       "\n",
       "    .dataframe thead th {\n",
       "        text-align: right;\n",
       "    }\n",
       "</style>\n",
       "<table border=\"1\" class=\"dataframe\">\n",
       "  <thead>\n",
       "    <tr style=\"text-align: right;\">\n",
       "      <th></th>\n",
       "      <th>label_prediction</th>\n",
       "      <th>left</th>\n",
       "      <th>none</th>\n",
       "      <th>right</th>\n",
       "    </tr>\n",
       "    <tr>\n",
       "      <th>year</th>\n",
       "      <th>subreddit</th>\n",
       "      <th></th>\n",
       "      <th></th>\n",
       "      <th></th>\n",
       "    </tr>\n",
       "  </thead>\n",
       "  <tbody>\n",
       "    <tr>\n",
       "      <th>2018</th>\n",
       "      <th>offmychest</th>\n",
       "      <td>51</td>\n",
       "      <td>299</td>\n",
       "      <td>12</td>\n",
       "    </tr>\n",
       "    <tr>\n",
       "      <th>2019</th>\n",
       "      <th>offmychest</th>\n",
       "      <td>36</td>\n",
       "      <td>335</td>\n",
       "      <td>24</td>\n",
       "    </tr>\n",
       "    <tr>\n",
       "      <th>2020</th>\n",
       "      <th>offmychest</th>\n",
       "      <td>73</td>\n",
       "      <td>245</td>\n",
       "      <td>13</td>\n",
       "    </tr>\n",
       "    <tr>\n",
       "      <th>2021</th>\n",
       "      <th>offmychest</th>\n",
       "      <td>53</td>\n",
       "      <td>236</td>\n",
       "      <td>15</td>\n",
       "    </tr>\n",
       "  </tbody>\n",
       "</table>\n",
       "</div>"
      ],
      "text/plain": [
       "label_prediction  left  none  right\n",
       "year subreddit                     \n",
       "2018 offmychest     51   299     12\n",
       "2019 offmychest     36   335     24\n",
       "2020 offmychest     73   245     13\n",
       "2021 offmychest     53   236     15"
      ]
     },
     "execution_count": 56,
     "metadata": {},
     "output_type": "execute_result"
    }
   ],
   "source": [
    "test.loc[test.subreddit==largest_sr[3]].groupby(\n",
    "    ['year', 'subreddit', 'label_prediction']).size().unstack(fill_value=0)"
   ]
  },
  {
   "cell_type": "markdown",
   "id": "ca9c4533",
   "metadata": {},
   "source": [
    "----------\n",
    "\n",
    "### So, does there seem to be an actual trend in popular subreddits' political preferences?\n",
    "\n",
    "With the predicted totals calculated above, let us plot the evolution of the share of political inclinations in these subreddit's post over the last four years:"
   ]
  },
  {
   "cell_type": "code",
   "execution_count": 235,
   "id": "cd32a1c7",
   "metadata": {},
   "outputs": [],
   "source": [
    "grouped_test = largest_sr_df.groupby(['subreddit','label_prediction','year']).count()\n",
    "grouped_total = largest_sr_df.groupby(['subreddit','year']).count()\n",
    "grouped_pcts = grouped_test.div(grouped_total, axis=0).round(decimals=4)*100\n",
    "grouped_pcts = grouped_pcts['selftext'].reset_index().rename(columns={'selftext': 'pctg_label'})"
   ]
  },
  {
   "cell_type": "code",
   "execution_count": 258,
   "id": "a2914269",
   "metadata": {},
   "outputs": [
    {
     "data": {
      "image/png": "[encoded data removed]",
      "text/plain": [
       "<Figure size 864x432 with 4 Axes>"
      ]
     },
     "metadata": {
      "needs_background": "light"
     },
     "output_type": "display_data"
    }
   ],
   "source": [
    "fig, ax = plt.subplots(2,2, figsize=(12, 6))\n",
    "\n",
    "axi=iter(ax.flatten())\n",
    "\n",
    "y = grouped_pcts.groupby(\n",
    "    ['year','subreddit','label_prediction'])[['pctg_label']].sum().reset_index().groupby(['subreddit'])\n",
    "\n",
    "for name, group in y :\n",
    "    group.set_index(['year','label_prediction'])['pctg_label'].unstack().plot(\n",
    "        title='Subreddit: r/'+name, ax=next(axi),legend=True, ylim=(0,100), colormap = 'prism')\n",
    "    plt.tight_layout()\n",
    "    \n",
    "for axi in ax.flat:\n",
    "    axi.xaxis.set_major_locator(plt.MaxNLocator(4))\n",
    "    axi.yaxis.set_major_locator(plt.MaxNLocator(4))"
   ]
  },
  {
   "cell_type": "markdown",
   "id": "567bc6b3",
   "metadata": {},
   "source": [
    "From the above illustrations, some patterns seem to showcase:\n",
    "* **r/NoStupidQuestions:** it seems to have remained mostly neutral throughout the years; some level of left-leaning postures seems to prevail over right-wing, which could be explained partly by Reddit's userbase demographics\n",
    "* **r/PoliticalDiscussion:** this subreddit, being inherently politics-themed, shows rather strong political opinions, whether it be to the left or right end of the political spectrum; there are no clear patterns over which posture prevails - there seems to be a slight prevalence of right-winged posts\n",
    "* **r/changemyview:** this forum seems to have become a platform for venting for left-leaning users over the years; particularly, 2020 seems to have been a heated year (we all can guess why), and these left-leaning users benefited from this internet media to express themselves\n",
    "* **r/offmychest:** similar to subreddit r/NoStupidQuestions, it seems to have remained quite neutral over the years"
   ]
  },
  {
   "cell_type": "markdown",
   "id": "fcb9243a",
   "metadata": {},
   "source": [
    "---------------------\n",
    "\n",
    "So... have reddit.com posts gotten more politically biased over the last few years? (Yes, I am quoting the original title)\n",
    "\n",
    "Based off of this exploratory analysis's results, Reddit seems to have remained somewhat true to its mission over the last few years, which is to ensure that \"*there's a community on Reddit for you*\". Overall, the scraped posts do not seem to lean to the left or to the right vehemently enough to make of Reddit's content prevalently biased, and there does not seem to be any evident trend in potential bias to state any increasing level of (covert) activism.\n",
    "\n",
    "The scraped posts, considering the prevalence of neutrality, seem to have a slight inclination towards the left. This might have to do with the prevalence in the userbase of Gen-Z and millennials, whose political affiliation seems to prefer the left over the right. To back up that statement, I contextualize this in the USA:\n",
    "\n",
    "<blockquote>\n",
    "    In Pew Research Center surveys conducted in 2017,[...] Millennial voters (born 1981 to 1996) have had a Democratic tilt since they first entered adulthood; this advantage has only grown as they have aged.\n",
    "    \n",
    "Democrats enjoy a 27-percentage-point advantage among Millennial voters (59% are Democrats or lean Democratic, 32% are Republican or lean Republican). In 2014, 53% of Millennial voters were Democrats or leaned Democratic, 37% tilted toward the GOP.\n",
    "    \n",
    "Millennials remain more likely than those in older generations to call themselves independents (44% vs. 39% of Gen Xers, 32% of Boomers and 27% of Silents); still, the roughly two-to-one Democratic advantage among Millennials is apparent both in “straight” and “leaned” partisan affiliation.</blockquote>\n",
    "\n",
    "Regarding subreddits themselves, the posts seem to have been able to maintain their original levels of ideological affiliations and motivations, and their content has not evolved in any evident way to become a platform for blatant political activism. In other words, they seem to have succeeded between 2018 and 2021 to stick to their roots, and to prevent the spirit of them from straying.\n",
    "\n",
    "-------\n",
    "\n",
    "Considering results as nonconclusive, reddit.com seems to have been able to abstain itself from becoming more politically biased... for now."
   ]
  },
  {
   "cell_type": "code",
   "execution_count": null,
   "id": "3db4afad",
   "metadata": {},
   "outputs": [],
   "source": []
  }
 ],
 "metadata": {
  "kernelspec": {
   "display_name": "Python 3 (ipykernel)",
   "language": "python",
   "name": "python3"
  },
  "language_info": {
   "codemirror_mode": {
    "name": "ipython",
    "version": 3
   },
   "file_extension": ".py",
   "mimetype": "text/x-python",
   "name": "python",
   "nbconvert_exporter": "python",
   "pygments_lexer": "ipython3",
   "version": "3.8.10"
  }
 },
 "nbformat": 4,
 "nbformat_minor": 5
}
